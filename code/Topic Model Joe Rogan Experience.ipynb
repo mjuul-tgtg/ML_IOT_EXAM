{
 "cells": [
  {
   "cell_type": "code",
   "execution_count": 1,
   "id": "6da18672",
   "metadata": {},
   "outputs": [],
   "source": [
    "import numpy as np\n",
    "import pandas as pd\n",
    "#10 min slots\n",
    "df = pd.read_csv('C:/Users/jeppe/Downloads/10_min_slots.csv', header=0)"
   ]
  },
  {
   "cell_type": "code",
   "execution_count": 2,
   "id": "4eaa36e8",
   "metadata": {},
   "outputs": [
    {
     "data": {
      "text/html": [
       "<div>\n",
       "<style scoped>\n",
       "    .dataframe tbody tr th:only-of-type {\n",
       "        vertical-align: middle;\n",
       "    }\n",
       "\n",
       "    .dataframe tbody tr th {\n",
       "        vertical-align: top;\n",
       "    }\n",
       "\n",
       "    .dataframe thead th {\n",
       "        text-align: right;\n",
       "    }\n",
       "</style>\n",
       "<table border=\"1\" class=\"dataframe\">\n",
       "  <thead>\n",
       "    <tr style=\"text-align: right;\">\n",
       "      <th></th>\n",
       "      <th>ten_min_id</th>\n",
       "      <th>id</th>\n",
       "      <th>show_name</th>\n",
       "      <th>show_desc</th>\n",
       "      <th>min_start</th>\n",
       "      <th>time_length</th>\n",
       "      <th>text</th>\n",
       "    </tr>\n",
       "  </thead>\n",
       "  <tbody>\n",
       "    <tr>\n",
       "      <th>0</th>\n",
       "      <td>269_0</td>\n",
       "      <td>269</td>\n",
       "      <td>#1109 - Matthew Walker</td>\n",
       "      <td>Matthew Walker is Professor of Neuroscience an...</td>\n",
       "      <td>0</td>\n",
       "      <td>10</td>\n",
       "      <td>Hey, what's going on? Ladies and gentlemen?....</td>\n",
       "    </tr>\n",
       "    <tr>\n",
       "      <th>1</th>\n",
       "      <td>269_10</td>\n",
       "      <td>269</td>\n",
       "      <td>#1109 - Matthew Walker</td>\n",
       "      <td>Matthew Walker is Professor of Neuroscience an...</td>\n",
       "      <td>10</td>\n",
       "      <td>10</td>\n",
       "      <td>They sleep in late May 2nd of these crazy dr...</td>\n",
       "    </tr>\n",
       "    <tr>\n",
       "      <th>2</th>\n",
       "      <td>269_20</td>\n",
       "      <td>269</td>\n",
       "      <td>#1109 - Matthew Walker</td>\n",
       "      <td>Matthew Walker is Professor of Neuroscience an...</td>\n",
       "      <td>20</td>\n",
       "      <td>10</td>\n",
       "      <td>They remember how they described it and then...</td>\n",
       "    </tr>\n",
       "    <tr>\n",
       "      <th>3</th>\n",
       "      <td>269_30</td>\n",
       "      <td>269</td>\n",
       "      <td>#1109 - Matthew Walker</td>\n",
       "      <td>Matthew Walker is Professor of Neuroscience an...</td>\n",
       "      <td>30</td>\n",
       "      <td>10</td>\n",
       "      <td>Does that make sense to you doesn't make sen...</td>\n",
       "    </tr>\n",
       "    <tr>\n",
       "      <th>4</th>\n",
       "      <td>269_40</td>\n",
       "      <td>269</td>\n",
       "      <td>#1109 - Matthew Walker</td>\n",
       "      <td>Matthew Walker is Professor of Neuroscience an...</td>\n",
       "      <td>40</td>\n",
       "      <td>10</td>\n",
       "      <td>Yeah, it's a huge pot. How many hours of sle...</td>\n",
       "    </tr>\n",
       "  </tbody>\n",
       "</table>\n",
       "</div>"
      ],
      "text/plain": [
       "  ten_min_id   id               show_name  \\\n",
       "0      269_0  269  #1109 - Matthew Walker   \n",
       "1     269_10  269  #1109 - Matthew Walker   \n",
       "2     269_20  269  #1109 - Matthew Walker   \n",
       "3     269_30  269  #1109 - Matthew Walker   \n",
       "4     269_40  269  #1109 - Matthew Walker   \n",
       "\n",
       "                                           show_desc  min_start  time_length  \\\n",
       "0  Matthew Walker is Professor of Neuroscience an...          0           10   \n",
       "1  Matthew Walker is Professor of Neuroscience an...         10           10   \n",
       "2  Matthew Walker is Professor of Neuroscience an...         20           10   \n",
       "3  Matthew Walker is Professor of Neuroscience an...         30           10   \n",
       "4  Matthew Walker is Professor of Neuroscience an...         40           10   \n",
       "\n",
       "                                                text  \n",
       "0    Hey, what's going on? Ladies and gentlemen?....  \n",
       "1    They sleep in late May 2nd of these crazy dr...  \n",
       "2    They remember how they described it and then...  \n",
       "3    Does that make sense to you doesn't make sen...  \n",
       "4    Yeah, it's a huge pot. How many hours of sle...  "
      ]
     },
     "execution_count": 2,
     "metadata": {},
     "output_type": "execute_result"
    }
   ],
   "source": [
    "df.head()"
   ]
  },
  {
   "cell_type": "code",
   "execution_count": 3,
   "id": "9ed638da",
   "metadata": {},
   "outputs": [
    {
     "data": {
      "text/plain": [
       "(2218, 7)"
      ]
     },
     "execution_count": 3,
     "metadata": {},
     "output_type": "execute_result"
    }
   ],
   "source": [
    "df.shape"
   ]
  },
  {
   "cell_type": "code",
   "execution_count": 4,
   "id": "beca1f75",
   "metadata": {},
   "outputs": [
    {
     "name": "stderr",
     "output_type": "stream",
     "text": [
      "C:\\Users\\jeppe\\anaconda3\\lib\\site-packages\\torch\\cuda\\__init__.py:82: UserWarning: CUDA initialization: CUDA driver initialization failed, you might not have a CUDA gpu. (Triggered internally at  C:\\cb\\pytorch_1000000000000\\work\\c10\\cuda\\CUDAFunctions.cpp:112.)\n",
      "  return torch._C._cuda_getDeviceCount() > 0\n"
     ]
    },
    {
     "data": {
      "application/vnd.jupyter.widget-view+json": {
       "model_id": "210613e3d7c5434aabe2407b451edc31",
       "version_major": 2,
       "version_minor": 0
      },
      "text/plain": [
       "Batches:   0%|          | 0/70 [00:00<?, ?it/s]"
      ]
     },
     "metadata": {},
     "output_type": "display_data"
    }
   ],
   "source": [
    "from sentence_transformers import SentenceTransformer\n",
    "model = SentenceTransformer('distilbert-base-nli-mean-tokens')\n",
    "data = df['text'].tolist()\n",
    "embeddings = model.encode(data, show_progress_bar=True)"
   ]
  },
  {
   "cell_type": "code",
   "execution_count": 50,
   "id": "29099e60",
   "metadata": {},
   "outputs": [],
   "source": [
    "import umap\n",
    "umap_embeddings = umap.UMAP(n_neighbors=200, \n",
    "                            n_components=5, \n",
    "                            metric='cosine').fit_transform(embeddings)"
   ]
  },
  {
   "cell_type": "code",
   "execution_count": 53,
   "id": "5db86db4",
   "metadata": {},
   "outputs": [],
   "source": [
    "import hdbscan\n",
    "cluster = hdbscan.HDBSCAN(min_cluster_size=10).fit(umap_embeddings)"
   ]
  },
  {
   "cell_type": "code",
   "execution_count": 63,
   "id": "2cb03a70",
   "metadata": {},
   "outputs": [
    {
     "data": {
      "text/plain": [
       "<matplotlib.colorbar.Colorbar at 0x12e5b853fd0>"
      ]
     },
     "execution_count": 63,
     "metadata": {},
     "output_type": "execute_result"
    },
    {
     "data": {
      "image/png": "[encoded data removed]",
      "text/plain": [
       "<Figure size 720x720 with 2 Axes>"
      ]
     },
     "metadata": {
      "needs_background": "light"
     },
     "output_type": "display_data"
    }
   ],
   "source": [
    "import matplotlib.pyplot as plt\n",
    "\n",
    "# Prepare data\n",
    "umap_data = umap.UMAP(n_neighbors=200, n_components=2, min_dist=0.0, metric='cosine').fit_transform(embeddings)\n",
    "result = pd.DataFrame(umap_data, columns=['x', 'y'])\n",
    "result['labels'] = cluster.labels_\n",
    "\n",
    "# Visualize clusters\n",
    "fig, ax = plt.subplots(figsize=(10, 10))\n",
    "outliers = result.loc[result.labels == -1, :]\n",
    "clustered = result.loc[result.labels != -1, :]\n",
    "plt.scatter(outliers.x, outliers.y, color='#BDBDBD', s=0.5)\n",
    "plt.scatter(clustered.x, clustered.y, c=clustered.labels, s=0.5, cmap='hsv_r')\n",
    "plt.colorbar()"
   ]
  },
  {
   "cell_type": "code",
   "execution_count": 64,
   "id": "96ed3754",
   "metadata": {},
   "outputs": [],
   "source": [
    "docs_df = pd.DataFrame(data, columns=[\"Doc\"])\n",
    "docs_df['Topic'] = cluster.labels_\n",
    "docs_df['Doc_ID'] = range(len(docs_df))\n",
    "docs_per_topic = docs_df.groupby(['Topic'], as_index = False).agg({'Doc': ' '.join})"
   ]
  },
  {
   "cell_type": "code",
   "execution_count": 65,
   "id": "c65a237f",
   "metadata": {},
   "outputs": [],
   "source": [
    "import numpy as np\n",
    "from sklearn.feature_extraction.text import CountVectorizer\n",
    "\n",
    "def c_tf_idf(documents, m, ngram_range=(1, 1)):\n",
    "    count = CountVectorizer(ngram_range=ngram_range, stop_words=\"english\").fit(documents)\n",
    "    t = count.transform(documents).toarray()\n",
    "    w = t.sum(axis=1)\n",
    "    tf = np.divide(t.T, w)\n",
    "    sum_t = t.sum(axis=0)\n",
    "    idf = np.log(np.divide(m, sum_t)).reshape(-1, 1)\n",
    "    tf_idf = np.multiply(tf, idf)\n",
    "\n",
    "    return tf_idf, count\n",
    "  \n",
    "tf_idf, count = c_tf_idf(docs_per_topic.Doc.values, m=len(data))"
   ]
  },
  {
   "cell_type": "code",
   "execution_count": 66,
   "id": "3185a46f",
   "metadata": {
    "scrolled": false
   },
   "outputs": [
    {
     "name": "stderr",
     "output_type": "stream",
     "text": [
      "C:\\Users\\jeppe\\anaconda3\\lib\\site-packages\\sklearn\\utils\\deprecation.py:87: FutureWarning: Function get_feature_names is deprecated; get_feature_names is deprecated in 1.0 and will be removed in 1.2. Please use get_feature_names_out instead.\n",
      "  warnings.warn(msg, category=FutureWarning)\n"
     ]
    },
    {
     "data": {
      "text/html": [
       "<div>\n",
       "<style scoped>\n",
       "    .dataframe tbody tr th:only-of-type {\n",
       "        vertical-align: middle;\n",
       "    }\n",
       "\n",
       "    .dataframe tbody tr th {\n",
       "        vertical-align: top;\n",
       "    }\n",
       "\n",
       "    .dataframe thead th {\n",
       "        text-align: right;\n",
       "    }\n",
       "</style>\n",
       "<table border=\"1\" class=\"dataframe\">\n",
       "  <thead>\n",
       "    <tr style=\"text-align: right;\">\n",
       "      <th></th>\n",
       "      <th>Topic</th>\n",
       "      <th>Size</th>\n",
       "    </tr>\n",
       "  </thead>\n",
       "  <tbody>\n",
       "    <tr>\n",
       "      <th>0</th>\n",
       "      <td>-1</td>\n",
       "      <td>1635</td>\n",
       "    </tr>\n",
       "    <tr>\n",
       "      <th>7</th>\n",
       "      <td>6</td>\n",
       "      <td>243</td>\n",
       "    </tr>\n",
       "    <tr>\n",
       "      <th>10</th>\n",
       "      <td>9</td>\n",
       "      <td>57</td>\n",
       "    </tr>\n",
       "    <tr>\n",
       "      <th>6</th>\n",
       "      <td>5</td>\n",
       "      <td>46</td>\n",
       "    </tr>\n",
       "    <tr>\n",
       "      <th>3</th>\n",
       "      <td>2</td>\n",
       "      <td>42</td>\n",
       "    </tr>\n",
       "    <tr>\n",
       "      <th>13</th>\n",
       "      <td>12</td>\n",
       "      <td>41</td>\n",
       "    </tr>\n",
       "    <tr>\n",
       "      <th>12</th>\n",
       "      <td>11</td>\n",
       "      <td>28</td>\n",
       "    </tr>\n",
       "    <tr>\n",
       "      <th>8</th>\n",
       "      <td>7</td>\n",
       "      <td>23</td>\n",
       "    </tr>\n",
       "    <tr>\n",
       "      <th>5</th>\n",
       "      <td>4</td>\n",
       "      <td>22</td>\n",
       "    </tr>\n",
       "    <tr>\n",
       "      <th>2</th>\n",
       "      <td>1</td>\n",
       "      <td>18</td>\n",
       "    </tr>\n",
       "  </tbody>\n",
       "</table>\n",
       "</div>"
      ],
      "text/plain": [
       "    Topic  Size\n",
       "0      -1  1635\n",
       "7       6   243\n",
       "10      9    57\n",
       "6       5    46\n",
       "3       2    42\n",
       "13     12    41\n",
       "12     11    28\n",
       "8       7    23\n",
       "5       4    22\n",
       "2       1    18"
      ]
     },
     "execution_count": 66,
     "metadata": {},
     "output_type": "execute_result"
    }
   ],
   "source": [
    "def extract_top_n_words_per_topic(tf_idf, count, docs_per_topic, n=20):\n",
    "    words = count.get_feature_names()\n",
    "    labels = list(docs_per_topic.Topic)\n",
    "    tf_idf_transposed = tf_idf.T\n",
    "    indices = tf_idf_transposed.argsort()[:, -n:]\n",
    "    top_n_words = {label: [(words[j], tf_idf_transposed[i][j]) for j in indices[i]][::-1] for i, label in enumerate(labels)}\n",
    "    return top_n_words\n",
    "\n",
    "def extract_topic_sizes(df):\n",
    "    topic_sizes = (df.groupby(['Topic'])\n",
    "                     .Doc\n",
    "                     .count()\n",
    "                     .reset_index()\n",
    "                     .rename({\"Topic\": \"Topic\", \"Doc\": \"Size\"}, axis='columns')\n",
    "                     .sort_values(\"Size\", ascending=False))\n",
    "    return topic_sizes\n",
    "\n",
    "top_n_words = extract_top_n_words_per_topic(tf_idf, count, docs_per_topic, n=20)\n",
    "topic_sizes = extract_topic_sizes(docs_df); topic_sizes.head(10)"
   ]
  },
  {
   "cell_type": "code",
   "execution_count": 61,
   "id": "e8079005",
   "metadata": {},
   "outputs": [
    {
     "data": {
      "text/plain": [
       "[('police', 0.0011958017266124022),\n",
       " ('cops', 0.0010551515161624407),\n",
       " ('law', 0.0009130109783335351),\n",
       " ('military', 0.0009110879350089186),\n",
       " ('position', 0.0008953021058262185),\n",
       " ('racist', 0.0008928214338654175),\n",
       " ('biden', 0.000886630828096721),\n",
       " ('war', 0.0008767798163308036),\n",
       " ('states', 0.0008726922105323468),\n",
       " ('obama', 0.0008620955754540946)]"
      ]
     },
     "execution_count": 61,
     "metadata": {},
     "output_type": "execute_result"
    }
   ],
   "source": [
    "top_n_words[6][:10]"
   ]
  },
  {
   "cell_type": "code",
   "execution_count": 62,
   "id": "f04b5db1",
   "metadata": {},
   "outputs": [
    {
     "data": {
      "text/plain": [
       "[('lsd', 0.001995563248009371),\n",
       " ('elephant', 0.0017590522268511857),\n",
       " ('korean', 0.0015354990784018703),\n",
       " ('jail', 0.0014424888723465266),\n",
       " ('glutathione', 0.0014006113608379198),\n",
       " ('tom', 0.001351294331868708),\n",
       " ('parking', 0.0012499311223583016),\n",
       " ('bruce', 0.0011555657752866236),\n",
       " ('comic', 0.0011553603097994858),\n",
       " ('cnn', 0.0011390540680520937)]"
      ]
     },
     "execution_count": 62,
     "metadata": {},
     "output_type": "execute_result"
    }
   ],
   "source": [
    "top_n_words[9][:10]"
   ]
  },
  {
   "cell_type": "code",
   "execution_count": null,
   "id": "0ea83cb0",
   "metadata": {},
   "outputs": [],
   "source": [
    "#with smaller clusters"
   ]
  },
  {
   "cell_type": "code",
   "execution_count": null,
   "id": "ab7b21db",
   "metadata": {},
   "outputs": [],
   "source": []
  },
  {
   "cell_type": "code",
   "execution_count": 67,
   "id": "c35e5e1f",
   "metadata": {},
   "outputs": [],
   "source": [
    "import umap\n",
    "umap_embeddings2 = umap.UMAP(n_neighbors=15, \n",
    "                            n_components=5, \n",
    "                            metric='cosine').fit_transform(embeddings)"
   ]
  },
  {
   "cell_type": "code",
   "execution_count": 68,
   "id": "7488143f",
   "metadata": {},
   "outputs": [],
   "source": [
    "import hdbscan\n",
    "cluster2 = hdbscan.HDBSCAN(min_cluster_size=10).fit(umap_embeddings2)"
   ]
  },
  {
   "cell_type": "code",
   "execution_count": 70,
   "id": "b883dcb4",
   "metadata": {},
   "outputs": [
    {
     "data": {
      "text/plain": [
       "<matplotlib.colorbar.Colorbar at 0x12e5c126a60>"
      ]
     },
     "execution_count": 70,
     "metadata": {},
     "output_type": "execute_result"
    },
    {
     "data": {
      "image/png": "[encoded data removed]",
      "text/plain": [
       "<Figure size 720x720 with 2 Axes>"
      ]
     },
     "metadata": {
      "needs_background": "light"
     },
     "output_type": "display_data"
    }
   ],
   "source": [
    "import matplotlib.pyplot as plt\n",
    "\n",
    "# Prepare data\n",
    "umap_data2 = umap.UMAP(n_neighbors=15, n_components=2, min_dist=0.0, metric='cosine').fit_transform(embeddings)\n",
    "result2 = pd.DataFrame(umap_data2, columns=['x', 'y'])\n",
    "result2['labels'] = cluster2.labels_\n",
    "\n",
    "# Visualize clusters\n",
    "fig, ax = plt.subplots(figsize=(10, 10))\n",
    "outliers2 = result2.loc[result2.labels == -1, :]\n",
    "clustered2 = result2.loc[result2.labels != -1, :]\n",
    "plt.scatter(outliers2.x, outliers2.y, color='#BDBDBD', s=0.5)\n",
    "plt.scatter(clustered2.x, clustered2.y, c=clustered2.labels, s=0.5, cmap='hsv_r')\n",
    "plt.colorbar()"
   ]
  },
  {
   "cell_type": "code",
   "execution_count": 71,
   "id": "ee58263d",
   "metadata": {},
   "outputs": [],
   "source": [
    "docs_df2 = pd.DataFrame(data, columns=[\"Doc\"])\n",
    "docs_df2['Topic'] = cluster2.labels_\n",
    "docs_df2['Doc_ID'] = range(len(docs_df2))\n",
    "docs_per_topic2 = docs_df2.groupby(['Topic'], as_index = False).agg({'Doc': ' '.join})"
   ]
  },
  {
   "cell_type": "code",
   "execution_count": 74,
   "id": "0b736164",
   "metadata": {},
   "outputs": [],
   "source": [
    "import numpy as np\n",
    "from sklearn.feature_extraction.text import CountVectorizer\n",
    "\n",
    "def c_tf_idf(documents, m, ngram_range=(1, 1)):\n",
    "    count = CountVectorizer(ngram_range=ngram_range, stop_words=\"english\").fit(documents)\n",
    "    t = count.transform(documents).toarray()\n",
    "    w = t.sum(axis=1)\n",
    "    tf = np.divide(t.T, w)\n",
    "    sum_t = t.sum(axis=0)\n",
    "    idf = np.log(np.divide(m, sum_t)).reshape(-1, 1)\n",
    "    tf_idf = np.multiply(tf, idf)\n",
    "\n",
    "    return tf_idf, count\n",
    "  \n",
    "tf_idf2, count2 = c_tf_idf(docs_per_topic2.Doc.values, m=len(data))"
   ]
  },
  {
   "cell_type": "code",
   "execution_count": 75,
   "id": "4eac50af",
   "metadata": {
    "scrolled": false
   },
   "outputs": [
    {
     "name": "stderr",
     "output_type": "stream",
     "text": [
      "C:\\Users\\jeppe\\anaconda3\\lib\\site-packages\\sklearn\\utils\\deprecation.py:87: FutureWarning: Function get_feature_names is deprecated; get_feature_names is deprecated in 1.0 and will be removed in 1.2. Please use get_feature_names_out instead.\n",
      "  warnings.warn(msg, category=FutureWarning)\n"
     ]
    },
    {
     "data": {
      "text/html": [
       "<div>\n",
       "<style scoped>\n",
       "    .dataframe tbody tr th:only-of-type {\n",
       "        vertical-align: middle;\n",
       "    }\n",
       "\n",
       "    .dataframe tbody tr th {\n",
       "        vertical-align: top;\n",
       "    }\n",
       "\n",
       "    .dataframe thead th {\n",
       "        text-align: right;\n",
       "    }\n",
       "</style>\n",
       "<table border=\"1\" class=\"dataframe\">\n",
       "  <thead>\n",
       "    <tr style=\"text-align: right;\">\n",
       "      <th></th>\n",
       "      <th>Topic</th>\n",
       "      <th>Size</th>\n",
       "    </tr>\n",
       "  </thead>\n",
       "  <tbody>\n",
       "    <tr>\n",
       "      <th>0</th>\n",
       "      <td>-1</td>\n",
       "      <td>1471</td>\n",
       "    </tr>\n",
       "    <tr>\n",
       "      <th>12</th>\n",
       "      <td>11</td>\n",
       "      <td>113</td>\n",
       "    </tr>\n",
       "    <tr>\n",
       "      <th>15</th>\n",
       "      <td>14</td>\n",
       "      <td>69</td>\n",
       "    </tr>\n",
       "    <tr>\n",
       "      <th>9</th>\n",
       "      <td>8</td>\n",
       "      <td>65</td>\n",
       "    </tr>\n",
       "    <tr>\n",
       "      <th>19</th>\n",
       "      <td>18</td>\n",
       "      <td>58</td>\n",
       "    </tr>\n",
       "    <tr>\n",
       "      <th>3</th>\n",
       "      <td>2</td>\n",
       "      <td>53</td>\n",
       "    </tr>\n",
       "    <tr>\n",
       "      <th>24</th>\n",
       "      <td>23</td>\n",
       "      <td>43</td>\n",
       "    </tr>\n",
       "    <tr>\n",
       "      <th>6</th>\n",
       "      <td>5</td>\n",
       "      <td>39</td>\n",
       "    </tr>\n",
       "    <tr>\n",
       "      <th>21</th>\n",
       "      <td>20</td>\n",
       "      <td>35</td>\n",
       "    </tr>\n",
       "    <tr>\n",
       "      <th>7</th>\n",
       "      <td>6</td>\n",
       "      <td>31</td>\n",
       "    </tr>\n",
       "  </tbody>\n",
       "</table>\n",
       "</div>"
      ],
      "text/plain": [
       "    Topic  Size\n",
       "0      -1  1471\n",
       "12     11   113\n",
       "15     14    69\n",
       "9       8    65\n",
       "19     18    58\n",
       "3       2    53\n",
       "24     23    43\n",
       "6       5    39\n",
       "21     20    35\n",
       "7       6    31"
      ]
     },
     "execution_count": 75,
     "metadata": {},
     "output_type": "execute_result"
    }
   ],
   "source": [
    "def extract_top_n_words_per_topic(tf_idf, count, docs_per_topic, n=20):\n",
    "    words = count.get_feature_names()\n",
    "    labels = list(docs_per_topic.Topic)\n",
    "    tf_idf_transposed = tf_idf.T\n",
    "    indices = tf_idf_transposed.argsort()[:, -n:]\n",
    "    top_n_words = {label: [(words[j], tf_idf_transposed[i][j]) for j in indices[i]][::-1] for i, label in enumerate(labels)}\n",
    "    return top_n_words\n",
    "\n",
    "def extract_topic_sizes(df):\n",
    "    topic_sizes = (df.groupby(['Topic'])\n",
    "                     .Doc\n",
    "                     .count()\n",
    "                     .reset_index()\n",
    "                     .rename({\"Topic\": \"Topic\", \"Doc\": \"Size\"}, axis='columns')\n",
    "                     .sort_values(\"Size\", ascending=False))\n",
    "    return topic_sizes\n",
    "\n",
    "top_n_words2 = extract_top_n_words_per_topic(tf_idf2, count2, docs_per_topic2, n=20)\n",
    "topic_sizes2 = extract_topic_sizes(docs_df2); topic_sizes2.head(10)"
   ]
  },
  {
   "cell_type": "code",
   "execution_count": 79,
   "id": "e7bbe559",
   "metadata": {},
   "outputs": [
    {
     "data": {
      "text/plain": [
       "[('agree', 0.0010962766414285303),\n",
       " ('ideas', 0.0010792062285490337),\n",
       " ('difficult', 0.0010040786207183485),\n",
       " ('gender', 0.0009607790745060162),\n",
       " ('mice', 0.0009394754719432145),\n",
       " ('dopamine', 0.0009331142884867504),\n",
       " ('message', 0.0009178287347186503),\n",
       " ('vote', 0.0009121769090712993),\n",
       " ('change', 0.0009055598828881385),\n",
       " ('coca', 0.0008932228089869053)]"
      ]
     },
     "execution_count": 79,
     "metadata": {},
     "output_type": "execute_result"
    }
   ],
   "source": [
    "top_n_words2[11][:10]"
   ]
  },
  {
   "cell_type": "code",
   "execution_count": 80,
   "id": "af39c6ce",
   "metadata": {},
   "outputs": [
    {
     "data": {
      "text/plain": [
       "[('racist', 0.0018426766308345457),\n",
       " ('assange', 0.0014662933867007444),\n",
       " ('military', 0.0014433793475912798),\n",
       " ('court', 0.0014331929350935354),\n",
       " ('obama', 0.0013762876969818138),\n",
       " ('bat', 0.001330698126222011),\n",
       " ('julian', 0.001324268935613095),\n",
       " ('president', 0.0013173509354540407),\n",
       " ('amp', 0.0012689775274526219),\n",
       " ('supreme', 0.0012269416902336897)]"
      ]
     },
     "execution_count": 80,
     "metadata": {},
     "output_type": "execute_result"
    }
   ],
   "source": [
    "top_n_words2[14][:10]"
   ]
  },
  {
   "cell_type": "code",
   "execution_count": 81,
   "id": "fe6de16e",
   "metadata": {},
   "outputs": [
    {
     "data": {
      "text/plain": [
       "[('leg', 0.002788662299170329),\n",
       " ('fights', 0.0027878603077541963),\n",
       " ('beat', 0.002603433123097059),\n",
       " ('john', 0.0023195504524893646),\n",
       " ('round', 0.0022717275014579675),\n",
       " ('knocked', 0.0022426877640321077),\n",
       " ('boxing', 0.002227258867490781),\n",
       " ('fought', 0.0021848176703220083),\n",
       " ('anderson', 0.0020515013612530776),\n",
       " ('champion', 0.002036703420802855)]"
      ]
     },
     "execution_count": 81,
     "metadata": {},
     "output_type": "execute_result"
    }
   ],
   "source": [
    "top_n_words2[8][:10]"
   ]
  },
  {
   "cell_type": "code",
   "execution_count": null,
   "id": "0b4ae3c3",
   "metadata": {},
   "outputs": [],
   "source": []
  }
 ],
 "metadata": {
  "kernelspec": {
   "display_name": "Python 3",
   "language": "python",
   "name": "python3"
  },
  "language_info": {
   "codemirror_mode": {
    "name": "ipython",
    "version": 3
   },
   "file_extension": ".py",
   "mimetype": "text/x-python",
   "name": "python",
   "nbconvert_exporter": "python",
   "pygments_lexer": "ipython3",
   "version": "3.8.8"
  }
 },
 "nbformat": 4,
 "nbformat_minor": 5
}
