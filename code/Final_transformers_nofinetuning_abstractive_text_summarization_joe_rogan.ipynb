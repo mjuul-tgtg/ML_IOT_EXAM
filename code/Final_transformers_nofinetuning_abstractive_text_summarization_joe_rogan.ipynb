{
 "cells": [
  {
   "cell_type": "code",
   "execution_count": 8,
   "metadata": {},
   "outputs": [],
   "source": [
    "import pymysql\n",
    "import pprint\n",
    "pp = pprint.PrettyPrinter(indent = 4)"
   ]
  },
  {
   "cell_type": "code",
   "execution_count": 9,
   "metadata": {},
   "outputs": [],
   "source": [
    "conn = pymysql.connect(host='localhost', user='admin',\n",
    "                            passwd=\"password\", db='joe_rogan')\n",
    "cur = conn.cursor()\n",
    "cur.execute(\n",
    "    \"SElECT id, episode_id, text FROM `transcript_time_split` \"\n",
    "    \"WHERE episode_id=269 \"\n",
    "    \"ORDER BY id ASC \"\n",
    "    \"LIMIT 10000\")\n",
    "data_tuple = cur.fetchall()\n",
    "cur.close()\n",
    "conn.close()"
   ]
  },
  {
   "cell_type": "code",
   "execution_count": 10,
   "metadata": {},
   "outputs": [],
   "source": [
    "data = []\n",
    "for i in data_tuple:\n",
    "    data.append(list(i))"
   ]
  },
  {
   "cell_type": "code",
   "execution_count": 11,
   "metadata": {
    "scrolled": true
   },
   "outputs": [],
   "source": [
    "for i in range(len(data)):\n",
    "    data[i][2] = \" \".join(data[i][2].split())"
   ]
  },
  {
   "cell_type": "code",
   "execution_count": 12,
   "metadata": {},
   "outputs": [
    {
     "name": "stdout",
     "output_type": "stream",
     "text": [
      "True\n"
     ]
    }
   ],
   "source": [
    "from transformers import pipeline\n",
    "import os\n",
    "os.environ[\"CUDA_DEVICE_ORDER\"]=\"PCI_BUS_ID\"\n",
    "os.environ[\"CUDA_VISIBLE_DEVICES\"]=\"0\"\n",
    "import torch\n",
    "print(torch.cuda.is_available())\n",
    "\"\"\"\n",
    "    Google: google/pegasus-xsum \n",
    "    Google lg: google/pegasus-large \n",
    "    Facebook: facebook/bart-large-cnn\n",
    "    SShleifer: sshleifer/distilbart-cnn-12-6\n",
    "    google/pegasus-reddit_tifu\n",
    "\n",
    "    Activate GPU by after model by writing: , device=0\n",
    "\"\"\"\n",
    "summarizer = pipeline(\"summarization\", \"google/pegasus-xsum\", device=0)"
   ]
  },
  {
   "cell_type": "code",
   "execution_count": 13,
   "metadata": {},
   "outputs": [
    {
     "name": "stdout",
     "output_type": "stream",
     "text": [
      "Episode: 269 10 minutes ID: 2271\n",
      "Episode: 269 10 minutes ID: 2272\n",
      "Episode: 269 10 minutes ID: 2273\n",
      "Episode: 269 10 minutes ID: 2274\n",
      "Episode: 269 10 minutes ID: 2275\n",
      "Episode: 269 10 minutes ID: 2276\n",
      "Episode: 269 10 minutes ID: 2277\n",
      "Episode: 269 10 minutes ID: 2278\n",
      "Episode: 269 10 minutes ID: 2279\n",
      "Episode: 269 10 minutes ID: 2280\n",
      "Episode: 269 10 minutes ID: 2281\n",
      "Episode: 269 10 minutes ID: 2282\n",
      "Episode: 269 10 minutes ID: 2283\n"
     ]
    }
   ],
   "source": [
    "output_summaries = []\n",
    "\n",
    "for i in data:\n",
    "    bitesizedtext = \"\"\n",
    "    textlist = []\n",
    "    tempEpisodeID = i[1]\n",
    "    tempID = i[0]\n",
    "\n",
    "    for x in i[2].split('.'):\n",
    "        if (len(bitesizedtext.split())+len(x.split())) > 350:\n",
    "            textlist.append(bitesizedtext)\n",
    "            bitesizedtext = \"\"\n",
    "            bitesizedtext = bitesizedtext + \" \" + x\n",
    "        else:\n",
    "            bitesizedtext = bitesizedtext + \" \" + x\n",
    "            \n",
    "            \n",
    "    print(f\"Episode: {tempEpisodeID} 10 minutes ID: {tempID}\")\n",
    "\n",
    "    summary = \"\"\n",
    "    for y in textlist:\n",
    "        text = summarizer(y, max_length=75, min_length=5, do_sample=False)[0]['summary_text']\n",
    "        summary += text\n",
    "    \n",
    "\n",
    "    output_summaries.append([tempEpisodeID, tempID, summary])\n",
    "    "
   ]
  },
  {
   "cell_type": "code",
   "execution_count": 14,
   "metadata": {},
   "outputs": [],
   "source": [
    "with open ('transformer_summaries.txt','a') as f:\n",
    "    \n",
    "    for i in range(len(output_summaries)):\n",
    "        f.write(f\"\"\"\n",
    "        EpisodeID: {output_summaries[i][0]}\n",
    "        10 minute ID: {output_summaries[i][1]}\n",
    "        Summary: \n",
    "        {output_summaries[i][2]}\n",
    "        \"\"\"\n",
    "        )\n",
    "        f.write(f\"\"\"\n",
    "        Length of original: {len(data[i][2])}, Length of summary: {len(output_summaries[i][2])}\n",
    "        \n",
    "        \"\"\"\n",
    "        )\n"
   ]
  }
 ],
 "metadata": {
  "interpreter": {
   "hash": "ad2bdc8ecc057115af97d19610ffacc2b4e99fae6737bb82f5d7fb13d2f2c186"
  },
  "kernelspec": {
   "display_name": "Python 3.9.7 ('base')",
   "language": "python",
   "name": "python3"
  },
  "language_info": {
   "codemirror_mode": {
    "name": "ipython",
    "version": 3
   },
   "file_extension": ".py",
   "mimetype": "text/x-python",
   "name": "python",
   "nbconvert_exporter": "python",
   "pygments_lexer": "ipython3",
   "version": "3.9.7"
  }
 },
 "nbformat": 4,
 "nbformat_minor": 2
}
